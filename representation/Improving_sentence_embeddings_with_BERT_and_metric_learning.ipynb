{
  "nbformat": 4,
  "nbformat_minor": 0,
  "metadata": {
    "colab": {
      "name": "Improving sentence embeddings with BERT and metric learning.ipynb",
      "provenance": [],
      "collapsed_sections": []
    },
    "kernelspec": {
      "name": "python3",
      "display_name": "Python 3"
    },
    "accelerator": "GPU"
  },
  "cells": [
    {
      "cell_type": "code",
      "metadata": {
        "id": "PpgmHHuNR7ly",
        "colab_type": "code",
        "colab": {}
      },
      "source": [
        ""
      ],
      "execution_count": 0,
      "outputs": []
    },
    {
      "cell_type": "markdown",
      "metadata": {
        "id": "UQy3ffR7sbOa",
        "colab_type": "text"
      },
      "source": [
        "# Improving sentence embeddings with BERT and Representation Learning"
      ]
    },
    {
      "cell_type": "markdown",
      "metadata": {
        "id": "loumnYbOsXVr",
        "colab_type": "text"
      },
      "source": [
        "In this experiment we fine-tune a BERT model to improve it's capability for encoding short texts. This yields more useful sentence representations for downstream NLP tasks.\n",
        "\n",
        "While a vanilla BERT can be used for encoding sentences, the representations generated with it are not robust. As we can see below, the samples deemed similar by the model are often more lexically than semantically related. Small perturbations in input samples result in large changes of predicted similarity."
      ]
    },
    {
      "cell_type": "markdown",
      "metadata": {
        "id": "BnzVpfZNshgg",
        "colab_type": "text"
      },
      "source": [
        "To improve, we use the Stanford Natural Language Inference dataset, which contains sentence pairs manually labeled with entailment, contradiction, and neutral. For these sentences we will be learning such a representation, that the similarity between the entailing pairs is greater than the similarity between the contradicting ones.\n",
        "\n",
        "To evaluate the quality of learned embeddings we measure Pearson rank correlation on STS and SICK-R datasets."
      ]
    },
    {
      "cell_type": "markdown",
      "metadata": {
        "id": "FKM6rquJsh2d",
        "colab_type": "text"
      },
      "source": [
        "\n",
        "The plan for this experiment is:\n",
        " \n",
        "\n",
        "1.   preparing the SNLI and MNLI datasets\n",
        "2.   implementing the data generator\n",
        "3.   defining the loss\n",
        "4.   building the model\n",
        "5.   preparing the evaluation pipeling\n",
        "6.   training the model\n",
        "\n",
        "\n",
        "## What is in this guide?\n",
        "This guide is about learning efficient sentence representations with BERT.\n",
        "It contains code for building and training a sentence encoder on labeled data.\n",
        "## What does it take?\n",
        "For a familiar reader it should take around 90 minutes to finish this guide and train the sentence encoder. The code was tested with tensorflow==1.15.\n",
        "## OK, show me the code. \n",
        "This time, most of the code from the [previous experiment ](https://medium.com/r/?url=https%3A%2F%2Ftowardsdatascience.com%2Ffine-tuning-bert-with-keras-and-tf-module-ed24ea91cff2)is reused. I recommend checking it out first. The standalone version can be found in the [repository](https://github.com/gaphex/bert_experimental/commits/master)."
      ]
    },
    {
      "cell_type": "markdown",
      "metadata": {
        "id": "Ko9HB2M4Lfsd",
        "colab_type": "text"
      },
      "source": [
        "## Step 1: Setting up"
      ]
    },
    {
      "cell_type": "code",
      "metadata": {
        "id": "2uLJj350Lf4r",
        "colab_type": "code",
        "outputId": "a1d53517-eed5-45bd-e248-6c7919dfe79e",
        "colab": {
          "base_uri": "https://localhost:8080/",
          "height": 97
        }
      },
      "source": [
        "import re\n",
        "import os\n",
        "import sys\n",
        "import json\n",
        "import nltk\n",
        "\n",
        "import logging\n",
        "import numpy as np\n",
        "import tensorflow as tf\n",
        "import tensorflow_hub as hub\n",
        "\n",
        "from tensorflow import keras\n",
        "from tensorflow.keras import layers\n",
        "from tensorflow.keras.callbacks import Callback\n",
        "\n",
        "from scipy.stats import spearmanr, pearsonr\n",
        "from glob import glob\n",
        "\n",
        "nltk.download('punkt')\n",
        "tf.compat.v1.logging.set_verbosity(tf.compat.v1.logging.ERROR)"
      ],
      "execution_count": 1,
      "outputs": [
        {
          "output_type": "display_data",
          "data": {
            "text/html": [
              "<p style=\"color: red;\">\n",
              "The default version of TensorFlow in Colab will soon switch to TensorFlow 2.x.<br>\n",
              "We recommend you <a href=\"https://www.tensorflow.org/guide/migrate\" target=\"_blank\">upgrade</a> now \n",
              "or ensure your notebook will continue to use TensorFlow 1.x via the <code>%tensorflow_version 1.x</code> magic:\n",
              "<a href=\"https://colab.research.google.com/notebooks/tensorflow_version.ipynb\" target=\"_blank\">more info</a>.</p>\n"
            ],
            "text/plain": [
              "<IPython.core.display.HTML object>"
            ]
          },
          "metadata": {
            "tags": []
          }
        },
        {
          "output_type": "stream",
          "text": [
            "[nltk_data] Downloading package punkt to /root/nltk_data...\n",
            "[nltk_data]   Package punkt is already up-to-date!\n"
          ],
          "name": "stdout"
        }
      ]
    },
    {
      "cell_type": "markdown",
      "metadata": {
        "id": "RayOY1m3tTlh",
        "colab_type": "text"
      },
      "source": [
        "We begin with downloading the SNLI, MNLI, STS and SICK datasets and the pre-trained english BERT model."
      ]
    },
    {
      "cell_type": "code",
      "metadata": {
        "id": "A0EXY9EHSyL6",
        "colab_type": "code",
        "colab": {}
      },
      "source": [
        "!wget https://storage.googleapis.com/bert_models/2018_10_18/uncased_L-12_H-768_A-12.zip\n",
        "!unzip uncased_L-12_H-768_A-12.zip\n",
        "!wget https://nlp.stanford.edu/projects/snli/snli_1.0.zip\n",
        "!unzip snli_1.0.zip\n",
        "!wget https://www.nyu.edu/projects/bowman/multinli/multinli_1.0.zip\n",
        "!unzip multinli_1.0.zip"
      ],
      "execution_count": 0,
      "outputs": []
    },
    {
      "cell_type": "code",
      "metadata": {
        "id": "rQcmp8V3S8Uo",
        "colab_type": "code",
        "outputId": "79cdc9fd-b6eb-447b-cfd2-050b09d54ab0",
        "colab": {
          "base_uri": "https://localhost:8080/",
          "height": 51
        }
      },
      "source": [
        "!git clone https://github.com/gaphex/bert_experimental\n",
        "!git clone https://github.com/brmson/dataset-sts\n",
        "\n",
        "sys.path.insert(0, 'bert_experimental')\n",
        "sys.path.insert(0, 'dataset-sts/pysts')\n",
        "\n",
        "from bert_experimental.finetuning.text_preprocessing import build_preprocessor\n",
        "from bert_experimental.finetuning.bert_layer import BertLayer\n",
        "from bert_experimental.finetuning.modeling import BertConfig, BertModel, build_bert_module\n",
        "\n",
        "from loader import load_sts, load_sick2014"
      ],
      "execution_count": 2,
      "outputs": [
        {
          "output_type": "stream",
          "text": [
            "fatal: destination path 'bert_experimental' already exists and is not an empty directory.\n",
            "fatal: destination path 'dataset-sts' already exists and is not an empty directory.\n"
          ],
          "name": "stdout"
        }
      ]
    },
    {
      "cell_type": "code",
      "metadata": {
        "id": "XaA9tKumTOL4",
        "colab_type": "code",
        "colab": {}
      },
      "source": [
        ""
      ],
      "execution_count": 0,
      "outputs": []
    },
    {
      "cell_type": "markdown",
      "metadata": {
        "id": "LOomQtQJtrNL",
        "colab_type": "text"
      },
      "source": [
        "Define a SNLI loader function"
      ]
    },
    {
      "cell_type": "code",
      "metadata": {
        "id": "Jfsr0nWEUB2-",
        "colab_type": "code",
        "colab": {}
      },
      "source": [
        "from collections import Counter, defaultdict\n",
        "\n",
        "def load_snli(fpaths):\n",
        "    sa, sb, lb = [], [], []\n",
        "    fpaths = np.atleast_1d(fpaths)\n",
        "    for fpath in fpaths:\n",
        "        with open(fpath) as fi:\n",
        "            for line in fi:\n",
        "                sample = json.loads(line)\n",
        "                sa.append(sample['sentence1'])\n",
        "                sb.append(sample['sentence2'])\n",
        "                lb.append(sample['gold_label'])\n",
        "    return sa, sb, lb"
      ],
      "execution_count": 0,
      "outputs": []
    },
    {
      "cell_type": "code",
      "metadata": {
        "id": "k9DcHZorUIOg",
        "colab_type": "code",
        "colab": {}
      },
      "source": [
        ""
      ],
      "execution_count": 0,
      "outputs": []
    },
    {
      "cell_type": "markdown",
      "metadata": {
        "id": "Wstd9xMMtvYN",
        "colab_type": "text"
      },
      "source": [
        "To handle the dataset more conveniently, we put it in a dictionary. For each unique anchor we create an ID and an entry, containing the anchor, entailment and contradiction samples. The anchors lacking at least one sample of each class are filtered out."
      ]
    },
    {
      "cell_type": "code",
      "metadata": {
        "id": "NIXkEROiUL7W",
        "colab_type": "code",
        "colab": {}
      },
      "source": [
        "def prepare_snli(sa, sb, lb):\n",
        "    \n",
        "    classes = {\"entailment\", \"contradiction\"}\n",
        "    anc_to_pairs = defaultdict(list)\n",
        "    filtered = {}\n",
        "    skipped = 0\n",
        "\n",
        "    for xa, xb, y in zip(sa, sb, lb):\n",
        "        anc_to_pairs[xa].append((xb, y))\n",
        "\n",
        "    anchor_id = 0\n",
        "    for anchor, payload in anc_to_pairs.items(): \n",
        "        \n",
        "        filtered[anchor_id] = defaultdict(list)\n",
        "        filtered[anchor_id][\"anchor\"].append(anchor)\n",
        "        \n",
        "        labels = set([t[1] for t in payload])\n",
        "        \n",
        "        if len(labels&classes) == len(classes):\n",
        "            for text, label in payload:\n",
        "                filtered[anchor_id][label].append(text)\n",
        "            anchor_id += 1\n",
        "        else:\n",
        "            skipped += 1\n",
        "            \n",
        "    print(\"Loaded: {} \\nSkipped: {}\".format(anchor_id, skipped))\n",
        "        \n",
        "    return filtered"
      ],
      "execution_count": 0,
      "outputs": []
    },
    {
      "cell_type": "markdown",
      "metadata": {
        "id": "dflYLIWWt0Hc",
        "colab_type": "text"
      },
      "source": [
        "Load the SNLI and MNLI datasets."
      ]
    },
    {
      "cell_type": "code",
      "metadata": {
        "id": "6PdTdY7_UMN_",
        "colab_type": "code",
        "outputId": "d712b468-f35e-4f08-f7f0-764d55827b31",
        "colab": {
          "base_uri": "https://localhost:8080/",
          "height": 85
        }
      },
      "source": [
        "train_data = [\"./snli_1.0/snli_1.0_train.jsonl\", \"./multinli_1.0/multinli_1.0_train.jsonl\"]\n",
        "test_data = [\"./snli_1.0/snli_1.0_test.jsonl\", \"./multinli_1.0/multinli_1.0_dev_matched.jsonl\"]\n",
        "\n",
        "tr_a, tr_b, tr_l = load_snli(train_data)\n",
        "ts_a, ts_b, ts_l = load_snli(test_data)\n",
        "\n",
        "fd_tr = prepare_snli(tr_a, tr_b, tr_l)\n",
        "fd_ts = prepare_snli(ts_a, ts_b, ts_l)"
      ],
      "execution_count": 5,
      "outputs": [
        {
          "output_type": "stream",
          "text": [
            "Loaded: 277277 \n",
            "Skipped: 1603\n",
            "Loaded: 5853 \n",
            "Skipped: 804\n"
          ],
          "name": "stdout"
        }
      ]
    },
    {
      "cell_type": "markdown",
      "metadata": {
        "id": "Gkwi7ekDt3-s",
        "colab_type": "text"
      },
      "source": [
        "# Step 2: Data Generator"
      ]
    },
    {
      "cell_type": "markdown",
      "metadata": {
        "id": "7e1UptUdwGTG",
        "colab_type": "text"
      },
      "source": [
        "For training the model we will sample triplets, consisting of an anchor, a positive sample and a negative sample. To handle complex batch generation logic we use the following code:"
      ]
    },
    {
      "cell_type": "code",
      "metadata": {
        "id": "KppWq8Sht5i9",
        "colab_type": "code",
        "colab": {}
      },
      "source": [
        "class SNLIDataset:\n",
        "    def __init__(self, datadict, hard_frac = 0.5, batch_size=256):\n",
        "        self.datadict = datadict\n",
        "        self._anchor_idx = np.array(list(self.datadict.keys()))\n",
        "        self._hard_frac = hard_frac\n",
        "        self._generator = self.generate_batch(batch_size)\n",
        "\n",
        "    def generate_batch(self, size):\n",
        "        while True:\n",
        "\n",
        "            hards = int(size*self._hard_frac)\n",
        "            anchor_ids = np.array(np.random.choice(self._anchor_idx, size, replace=False))\n",
        "\n",
        "            anchors = self.get_anchors(anchor_ids)\n",
        "            positives = self.get_positives(anchor_ids)\n",
        "            negatives = np.hstack([self.get_hard_negatives(anchor_ids[:hards]),\n",
        "                                   self.get_random_negatives(anchor_ids[hards:])])\n",
        "            labels = np.ones((size,1))\n",
        "\n",
        "            assert len(anchors) == len(positives) == len(negatives) == len(labels) == size\n",
        "\n",
        "            yield [anchors, positives, negatives], labels\n",
        "            \n",
        "    def get_anchors(self, anchor_ids):\n",
        "        classes = ['anchor']\n",
        "        samples = self.get_samples_from_ids(anchor_ids, classes)\n",
        "        return samples\n",
        "    \n",
        "    def get_positives(self, anchor_ids):\n",
        "        classes = ['entailment']\n",
        "        samples = self.get_samples_from_ids(anchor_ids, classes)\n",
        "        return samples\n",
        "\n",
        "    def get_hard_negatives(self, anchor_ids):\n",
        "        classes = ['contradiction']\n",
        "        samples = self.get_samples_from_ids(anchor_ids, classes)\n",
        "        return samples\n",
        "\n",
        "    def get_random_negatives(self, anchor_ids):\n",
        "        samples = []\n",
        "        classes = ['contradiction', 'neutral','entailment']\n",
        "        for anchor_id in anchor_ids:\n",
        "\n",
        "            other_anchor_id = self.get_random(self._anchor_idx, anchor_id)\n",
        "            avail_classes = list(set(self.datadict[other_anchor_id].keys()) & set(classes))\n",
        "            sample_class = self.get_random(avail_classes)\n",
        "            sample = self.get_random(self.datadict[other_anchor_id][sample_class])\n",
        "            samples.append(sample)\n",
        "        samples = np.array(samples)\n",
        "        return samples\n",
        "    \n",
        "    def get_samples_from_ids(self, anchor_ids, classes):\n",
        "        samples = []\n",
        "        for anchor_id in anchor_ids:\n",
        "            sample_class = self.get_random(classes)\n",
        "            sample = self.get_random(self.datadict[anchor_id][sample_class])\n",
        "            samples.append(sample)\n",
        "        samples = np.array(samples)\n",
        "        return samples\n",
        "\n",
        "    @staticmethod\n",
        "    def get_random(seq, exc=None):\n",
        "        if len(seq) == 1:\n",
        "            return seq[0]\n",
        "                                      \n",
        "        selected = None\n",
        "        while selected is None or selected == exc:\n",
        "            selected = np.random.choice(seq)\n",
        "        return selected"
      ],
      "execution_count": 0,
      "outputs": []
    },
    {
      "cell_type": "markdown",
      "metadata": {
        "id": "52uHWJljwMGA",
        "colab_type": "text"
      },
      "source": [
        "The high-level logic is contained in the generate_batch method.\n",
        "\n",
        "\n",
        "1.   Batch anchor IDs are selected randomly from all available IDs.\n",
        "2.   Anchor samples are retrieved from anchor samples of their IDs.\n",
        "3.   Positive samples are retrieved from entailment samples of their IDs.\n",
        "4.   Negative samples are retrieved from contradiction samples of their IDs.       These may be considered hard negative samples, because they are often semantically similar to their anchors. To reduce overfitting we mix them with random negative samples retrieved from other, random ID."
      ]
    },
    {
      "cell_type": "markdown",
      "metadata": {
        "id": "rsDkNG6CuKZi",
        "colab_type": "text"
      },
      "source": [
        "# Step 3: loss function"
      ]
    },
    {
      "cell_type": "markdown",
      "metadata": {
        "id": "d9_jhi5-wmw7",
        "colab_type": "text"
      },
      "source": [
        "For the similarity function S we use inner product. The code for computing the approximate negative log probability of the data is below"
      ]
    },
    {
      "cell_type": "code",
      "metadata": {
        "id": "QVlWT682uJWg",
        "colab_type": "code",
        "colab": {}
      },
      "source": [
        "def entropy_loss(vectors):\n",
        "    anc, pos, neg = vectors\n",
        "\n",
        "    pos_sim = tf.reduce_sum((anc * pos), axis=-1, keepdims=True)\n",
        "    neg_mul = tf.matmul(anc, neg, transpose_b=True)\n",
        "    neg_sim = tf.log(tf.reduce_sum(tf.exp(neg_mul), axis=-1, keepdims=True))\n",
        "\n",
        "    loss = tf.nn.relu(neg_sim - pos_sim)\n",
        "\n",
        "    return loss"
      ],
      "execution_count": 0,
      "outputs": []
    },
    {
      "cell_type": "code",
      "metadata": {
        "id": "qDAKn-GFuJg4",
        "colab_type": "code",
        "colab": {}
      },
      "source": [
        ""
      ],
      "execution_count": 0,
      "outputs": []
    },
    {
      "cell_type": "markdown",
      "metadata": {
        "id": "IPvFc9Y3uUWI",
        "colab_type": "text"
      },
      "source": [
        "# Step 4: model"
      ]
    },
    {
      "cell_type": "markdown",
      "metadata": {
        "id": "4npgqxEZw36S",
        "colab_type": "text"
      },
      "source": [
        "We re-use the fine-tuning code from the previous experiment and build the BERT module."
      ]
    },
    {
      "cell_type": "code",
      "metadata": {
        "id": "_1SMC-hiNDQn",
        "colab_type": "code",
        "colab": {}
      },
      "source": [
        "BERT_DIR = \"/content/uncased_L-12_H-768_A-12/\" #@param {type:\"string\"}\n",
        "\n",
        "build_bert_module(BERT_DIR+\"bert_config.json\",\n",
        "                  BERT_DIR+\"vocab.txt\",\n",
        "                  BERT_DIR+\"bert_model.ckpt\", \n",
        "                  \"bert_module\")"
      ],
      "execution_count": 0,
      "outputs": []
    },
    {
      "cell_type": "markdown",
      "metadata": {
        "id": "5RN0k9sqw-yJ",
        "colab_type": "text"
      },
      "source": [
        "The model has three inputs for the anchor, positive and negative samples. A BERT layer with a mean pooling operation is used as a shared text encoder. Text preprocessing is handled automatically by the layer. Negative log probability loss is passed through the entropy_loss function.\n",
        "\n",
        "For convenience, we create 3 Keras models: enc_model for encoding sentences, sim_model for computing similarity between sentence pairs and trn_model for training. All models use shared weights."
      ]
    },
    {
      "cell_type": "code",
      "metadata": {
        "id": "g4DgIbqZuW9r",
        "colab_type": "code",
        "colab": {}
      },
      "source": [
        "def dot_product(vpacks):\n",
        "    u, v = tensor_pair\n",
        "    return tf.reduce_sum((u * v), axis=-1, keepdims=True)\n",
        "\n",
        "def cosine_similarity(tensor_pair):\n",
        "    u, v = tensor_pair\n",
        "    u = tf.math.l2_normalize(u, axis=-1)\n",
        "    v = tf.math.l2_normalize(v, axis=-1)\n",
        "    return tf.reduce_sum((u * v), axis=-1, keepdims=True)\n",
        "\n",
        "def mean_loss(y_true, y_pred):\n",
        "    mean_pred = tf.reduce_mean(y_pred - 0 * y_true)\n",
        "    return mean_pred\n",
        "\n",
        "def build_model(module_path, seq_len = 24, tune_lr=6, loss = entropy_loss):\n",
        "\n",
        "    inp_anc = tf.keras.Input(shape=(1, ), dtype=tf.string, name='input_anchor')\n",
        "    inp_pos = tf.keras.Input(shape=(1, ), dtype=tf.string, name='input_positive')\n",
        "    inp_neg = tf.keras.Input(shape=(1, ), dtype=tf.string, name='input_negative')\n",
        "\n",
        "    sent_encoder = BertLayer(module_path, seq_len, n_tune_layers=tune_lr, do_preprocessing=True,\n",
        "                             verbose=False, pooling=\"mean\", trainable=True, tune_embeddings=False)\n",
        "    \n",
        "    # magnitude multiplier to avoid NaN loss overflow\n",
        "    c = 0.5\n",
        "  \n",
        "    anc_enc = c * sent_encoder(inp_anc) \n",
        "    pos_enc = c * sent_encoder(inp_pos) \n",
        "    neg_enc = c * sent_encoder(inp_neg) \n",
        "\n",
        "    loss = tf.keras.layers.Lambda(loss, name='loss')([anc_enc, pos_enc, neg_enc])\n",
        "    sim = tf.keras.layers.Lambda(cosine_similarity, name='similarity')([anc_enc, pos_enc])\n",
        "\n",
        "    trn_model = tf.keras.models.Model(inputs=[inp_anc, inp_pos, inp_neg], outputs=[loss])\n",
        "    enc_model = tf.keras.models.Model(inputs=inp_anc, outputs=[anc_enc])\n",
        "    sim_model = tf.keras.models.Model(inputs=[inp_anc, inp_pos], outputs=[sim])\n",
        "\n",
        "    trn_model.compile(\n",
        "        optimizer=tf.keras.optimizers.Adam(learning_rate=1e-5, ),\n",
        "        loss=mean_loss,\n",
        "        metrics=[])\n",
        "\n",
        "    trn_model.summary()\n",
        "\n",
        "    mdict = {\n",
        "        \"enc_model\": enc_model,\n",
        "        \"sim_model\": sim_model,\n",
        "        \"trn_model\": trn_model\n",
        "    }\n",
        "\n",
        "    return mdict"
      ],
      "execution_count": 0,
      "outputs": []
    },
    {
      "cell_type": "markdown",
      "metadata": {
        "id": "dAxtJfRmxGtY",
        "colab_type": "text"
      },
      "source": [
        "# Step 5: Evaluation pipeline"
      ]
    },
    {
      "cell_type": "markdown",
      "metadata": {
        "id": "Lz8IOU8PxIHh",
        "colab_type": "text"
      },
      "source": [
        "Natural Language Encoders are usually evaluated by encoding labeled sentence pairs, measuring similarity between them, then computing the correlation of that similarity with human judgement.\n",
        "\n",
        "We will use STS 2012–2016 and SICK 2014 dataset for evaluating our model. For all sentence pairs in the test set we compute cosine similarity. We report Pearson rank correlation with human-annotated labels.\n",
        "\n",
        "The Callback below handles the evaluation procedure and saves the provided savemodel to savepath, every time a new best result is achieved."
      ]
    },
    {
      "cell_type": "code",
      "metadata": {
        "id": "xjozjqTtxLiM",
        "colab_type": "code",
        "colab": {}
      },
      "source": [
        "class PearsonrRankCallback(Callback):\n",
        "\n",
        "    def __init__(self, loader, filepaths, name=None, verbose=False,\n",
        "                 sim_model=None, savemodel=None, savepath=None):\n",
        "\n",
        "        self.savemodel = savemodel\n",
        "        self.savepath = savepath\n",
        "        self.sim_model = sim_model\n",
        "        self.loader = loader\n",
        "        self.verbose = verbose\n",
        "        self.name = name\n",
        "\n",
        "        self.samples, self.labels = self.load_datasets(filepaths)\n",
        "        self.best = 0\n",
        "        super(PearsonrRankCallback, self).__init__()\n",
        "\n",
        "    def load_datasets(self, filepaths):\n",
        "        _xa, _xb, _y = [], [], [] \n",
        "        for filepath in filepaths:\n",
        "            sa, sb, lb = self.loader(filepath)\n",
        "            sa = self.join_by_whitespace(sa)\n",
        "            sb = self.join_by_whitespace(sb)\n",
        "            _xa += sa\n",
        "            _xb += sb\n",
        "            _y += list(lb)\n",
        "        return [_xa, _xb], _y\n",
        "            \n",
        "    @staticmethod\n",
        "    def join_by_whitespace(list_of_str):\n",
        "        return [\" \".join(s) for s in list_of_str]\n",
        "\n",
        "    def on_epoch_begin(self, epoch, logs=None):\n",
        "\n",
        "        pred = self.sim_model.predict(self.samples, batch_size=128, \n",
        "                                      verbose=self.verbose).reshape(-1,)\n",
        "        coef, p = pearsonr(self.labels, pred)\n",
        "        coef = np.round(coef, 4)\n",
        "        if coef > self.best:\n",
        "            self.best = coef\n",
        "            print(\"*** New best: {} = {}\".format(self.name, coef))\n",
        "            if self.savemodel and self.savepath:\n",
        "                self.savemodel.save_weights(self.savepath)\n",
        "        else:\n",
        "            print(\"mean: {}\".format(coef))\n",
        "\n",
        "    def on_train_end(self, logs=None):\n",
        "        self.on_epoch_begin(None)"
      ],
      "execution_count": 0,
      "outputs": []
    },
    {
      "cell_type": "code",
      "metadata": {
        "id": "qHgQIxTNxU05",
        "colab_type": "code",
        "colab": {}
      },
      "source": [
        ""
      ],
      "execution_count": 0,
      "outputs": []
    },
    {
      "cell_type": "markdown",
      "metadata": {
        "id": "G_m7bPbrxU9C",
        "colab_type": "text"
      },
      "source": [
        "# Step 6: training the model"
      ]
    },
    {
      "cell_type": "code",
      "metadata": {
        "id": "aJ2ifoaRUMH1",
        "colab_type": "code",
        "outputId": "877b0da2-14d3-4398-912a-833c09242220",
        "colab": {
          "base_uri": "https://localhost:8080/",
          "height": 493
        }
      },
      "source": [
        "model_dict = build_model(module_path=\"bert_module\", tune_lr=4, loss=entropy_loss)"
      ],
      "execution_count": 10,
      "outputs": [
        {
          "output_type": "stream",
          "text": [
            "Model: \"model\"\n",
            "__________________________________________________________________________________________________\n",
            "Layer (type)                    Output Shape         Param #     Connected to                     \n",
            "==================================================================================================\n",
            "input_anchor (InputLayer)       [(None, 1)]          0                                            \n",
            "__________________________________________________________________________________________________\n",
            "input_positive (InputLayer)     [(None, 1)]          0                                            \n",
            "__________________________________________________________________________________________________\n",
            "input_negative (InputLayer)     [(None, 1)]          0                                            \n",
            "__________________________________________________________________________________________________\n",
            "bert_layer (BertLayer)          (None, 768)          109482240   input_anchor[0][0]               \n",
            "                                                                 input_positive[0][0]             \n",
            "                                                                 input_negative[0][0]             \n",
            "__________________________________________________________________________________________________\n",
            "tf_op_layer_mul (TensorFlowOpLa [(None, 768)]        0           bert_layer[0][0]                 \n",
            "__________________________________________________________________________________________________\n",
            "tf_op_layer_mul_1 (TensorFlowOp [(None, 768)]        0           bert_layer[1][0]                 \n",
            "__________________________________________________________________________________________________\n",
            "tf_op_layer_mul_2 (TensorFlowOp [(None, 768)]        0           bert_layer[2][0]                 \n",
            "__________________________________________________________________________________________________\n",
            "loss (Lambda)                   (None, 1)            0           tf_op_layer_mul[0][0]            \n",
            "                                                                 tf_op_layer_mul_1[0][0]          \n",
            "                                                                 tf_op_layer_mul_2[0][0]          \n",
            "==================================================================================================\n",
            "Total params: 109,482,240\n",
            "Trainable params: 28,351,488\n",
            "Non-trainable params: 81,130,752\n",
            "__________________________________________________________________________________________________\n"
          ],
          "name": "stdout"
        }
      ]
    },
    {
      "cell_type": "code",
      "metadata": {
        "id": "AOoImltk6-i4",
        "colab_type": "code",
        "colab": {}
      },
      "source": [
        "HFRAC = 0.5\n",
        "BSIZE = 256\n",
        "\n",
        "enc_model = model_dict[\"enc_model\"]\n",
        "sim_model = model_dict[\"sim_model\"]\n",
        "trn_model = model_dict[\"trn_model\"]\n",
        "\n",
        "tr_gen = SNLIDataset(fd_tr, hard_frac=HFRAC, batch_size=BSIZE)\n",
        "ts_gen = SNLIDataset(fd_ts, hard_frac=HFRAC, batch_size=BSIZE)\n",
        "\n",
        "spr_sts = PearsonrRankCallback(load_sts, glob(\"./dataset-sts/data/sts/semeval-sts/*/*test*.tsv\"), name='sts',\n",
        "                               sim_model=sim_model, savemodel=enc_model, savepath=\"encoder_en_triplet.h5\")\n",
        "spr_sick = PearsonrRankCallback(load_sick2014, glob(\"./dataset-sts/data/sts/sick2014/SICK_test_annotated.txt\"), \n",
        "                                name='sick', sim_model=sim_model)\n",
        "\n",
        "callbacks = [spr_sts, spr_sick]"
      ],
      "execution_count": 0,
      "outputs": []
    },
    {
      "cell_type": "code",
      "metadata": {
        "id": "wxqjS0XVdhvc",
        "colab_type": "code",
        "outputId": "cf9d5f12-f666-4c07-bdf2-7fe955089c54",
        "colab": {
          "base_uri": "https://localhost:8080/",
          "height": 493
        }
      },
      "source": [
        "trn_model.fit_generator(\n",
        "    tr_gen._generator, validation_data=ts_gen._generator,\n",
        "    steps_per_epoch=256, validation_steps=32, epochs=5, callbacks=callbacks)"
      ],
      "execution_count": 0,
      "outputs": [
        {
          "output_type": "stream",
          "text": [
            "*** New best: sts = 0.5481\n",
            "*** New best: sick = 0.6069\n",
            "Epoch 1/5\n",
            "255/256 [============================>.] - ETA: 1s - loss: 0.7381Epoch 1/5\n",
            "256/256 [==============================] - 361s 1s/step - loss: 0.7366 - val_loss: 0.4765\n",
            "*** New best: sts = 0.7372\n",
            "*** New best: sick = 0.8101\n",
            "Epoch 2/5\n",
            "255/256 [============================>.] - ETA: 1s - loss: 0.4186Epoch 1/5\n",
            "256/256 [==============================] - 343s 1s/step - loss: 0.4185 - val_loss: 0.4005\n",
            "*** New best: sts = 0.7501\n",
            "*** New best: sick = 0.8209\n",
            "Epoch 3/5\n",
            "255/256 [============================>.] - ETA: 1s - loss: 0.3574Epoch 1/5\n",
            "256/256 [==============================] - 343s 1s/step - loss: 0.3575 - val_loss: 0.3460\n",
            "*** New best: sts = 0.7582\n",
            "*** New best: sick = 0.8255\n",
            "Epoch 4/5\n",
            "255/256 [============================>.] - ETA: 1s - loss: 0.3209Epoch 1/5\n",
            "256/256 [==============================] - 343s 1s/step - loss: 0.3207 - val_loss: 0.3335\n",
            "*** New best: sts = 0.7595\n",
            "*** New best: sick = 0.8272\n",
            "Epoch 5/5\n",
            "255/256 [============================>.] - ETA: 1s - loss: 0.2999Epoch 1/5\n",
            "256/256 [==============================] - 342s 1s/step - loss: 0.3000 - val_loss: 0.3104\n",
            "*** New best: sts = 0.7612\n",
            "*** New best: sick = 0.8295\n"
          ],
          "name": "stdout"
        },
        {
          "output_type": "execute_result",
          "data": {
            "text/plain": [
              "<tensorflow.python.keras.callbacks.History at 0x7f9f45db8128>"
            ]
          },
          "metadata": {
            "tags": []
          },
          "execution_count": 15
        }
      ]
    },
    {
      "cell_type": "code",
      "metadata": {
        "id": "h9ZwOBwqUoq_",
        "colab_type": "code",
        "colab": {}
      },
      "source": [
        ""
      ],
      "execution_count": 0,
      "outputs": []
    },
    {
      "cell_type": "code",
      "metadata": {
        "id": "YqrXgVQBUqEG",
        "colab_type": "code",
        "colab": {}
      },
      "source": [
        ""
      ],
      "execution_count": 0,
      "outputs": []
    },
    {
      "cell_type": "code",
      "metadata": {
        "id": "rWTe5Nub0BrH",
        "colab_type": "code",
        "colab": {}
      },
      "source": [
        ""
      ],
      "execution_count": 0,
      "outputs": []
    },
    {
      "cell_type": "code",
      "metadata": {
        "id": "aAPx04ZO0TRE",
        "colab_type": "code",
        "colab": {}
      },
      "source": [
        ""
      ],
      "execution_count": 0,
      "outputs": []
    },
    {
      "cell_type": "code",
      "metadata": {
        "id": "1poViDMxkL-H",
        "colab_type": "code",
        "colab": {
          "base_uri": "https://localhost:8080/",
          "height": 369
        },
        "outputId": "94787b58-7165-4db2-b63f-e18b98c38b48"
      },
      "source": [
        "from tensorflow.keras.utils import plot_model\n",
        "plot_model(trn_model)"
      ],
      "execution_count": 13,
      "outputs": [
        {
          "output_type": "execute_result",
          "data": {
            "image/png": "[encoded data removed]",
            "text/plain": [
              "<IPython.core.display.Image object>"
            ]
          },
          "metadata": {
            "tags": []
          },
          "execution_count": 13
        }
      ]
    },
    {
      "cell_type": "markdown",
      "metadata": {
        "id": "7Ocp8B1VxrFl",
        "colab_type": "text"
      },
      "source": [
        "# Step 7: manual evaluation"
      ]
    },
    {
      "cell_type": "code",
      "metadata": {
        "id": "uk4q5clG0T6f",
        "colab_type": "code",
        "colab": {}
      },
      "source": [
        ""
      ],
      "execution_count": 0,
      "outputs": []
    },
    {
      "cell_type": "code",
      "metadata": {
        "id": "t0005KkInQX_",
        "colab_type": "code",
        "colab": {}
      },
      "source": [
        "import matplotlib.pyplot as plt\n",
        "import seaborn as sns\n",
        "%matplotlib inline\n",
        "\n",
        "def plot_similarity(labels, features1, features2, rotation):\n",
        "\n",
        "  corr1 = compute_scores(features1)\n",
        "  corr2 = compute_scores(features2)\n",
        "  sns.set(rc={'axes.facecolor':'white', 'figure.facecolor':'white'})\n",
        "  sns.set_context(\"poster\")\n",
        "\n",
        "  fig, (ax1,ax2) = plt.subplots(ncols=2, figsize=(16, 8))\n",
        "  fig.subplots_adjust(wspace=0.02)\n",
        "\n",
        "  sns.set(font_scale=1.0)\n",
        "  g1 = sns.heatmap(\n",
        "      corr1,\n",
        "      ax=ax1,\n",
        "      cbar=False,\n",
        "      yticklabels=labels,\n",
        "      xticklabels=labels,\n",
        "      vmin=np.min(corr1),\n",
        "      vmax=np.max(corr1),\n",
        "      cmap=\"Blues\")\n",
        "  \n",
        "  g2 = sns.heatmap(\n",
        "      corr2,\n",
        "      ax=ax2,\n",
        "      cbar=False,\n",
        "      xticklabels=labels,\n",
        "      vmin=np.min(corr2),\n",
        "      vmax=np.max(corr2),\n",
        "      cmap=\"Blues\")\n",
        "  g2.set(yticks=[])\n",
        "  fig.colorbar(ax2.collections[0], ax=ax1,location=\"right\", use_gridspec=False, pad=0.01)\n",
        "  fig.colorbar(ax2.collections[0], ax=ax2,location=\"right\", use_gridspec=False, pad=0.01)\n",
        "\n",
        "  g1.set_title(\"Base BERT\")\n",
        "  g2.set_title(\"Trained model\")\n",
        "\n",
        "def compute_scores(vectors):\n",
        "  corr = np.inner(vectors, vectors)\n",
        "  cmax = np.max(corr)\n",
        "  corr /= cmax\n",
        "  return corr\n",
        "\n",
        "def run_and_plot(messages_, encoder1, encoder2):\n",
        "  message_embeddings_1 = encoder1.predict(np.atleast_1d(messages_))\n",
        "  message_embeddings_2 = encoder2.predict(np.atleast_1d(messages_))\n",
        "  plot_similarity(messages_, message_embeddings_1, message_embeddings_2, 90)\n",
        "\n",
        "def get_sents(dev_set):\n",
        "  dev_keys = list(dev_set.keys())\n",
        "  sents = []\n",
        "  for k in np.random.choice(dev_keys, 3):\n",
        "    for c in classes:\n",
        "      sents.append(dev_set[k][c][0])\n",
        "  return sents"
      ],
      "execution_count": 0,
      "outputs": []
    },
    {
      "cell_type": "code",
      "metadata": {
        "id": "wzHxl7e3oypE",
        "colab_type": "code",
        "colab": {}
      },
      "source": [
        "classes = ['anchor', 'entailment', 'contradiction']\n",
        "max_len = 30\n",
        "dev_set = {k: v for k, v in fd_ts.items() if all([len(v[c][0]) < max_len for c in classes])}"
      ],
      "execution_count": 0,
      "outputs": []
    },
    {
      "cell_type": "code",
      "metadata": {
        "id": "OrYgSUgyoyxo",
        "colab_type": "code",
        "colab": {}
      },
      "source": [
        ""
      ],
      "execution_count": 0,
      "outputs": []
    },
    {
      "cell_type": "code",
      "metadata": {
        "id": "yC3wVo_Ooy6f",
        "colab_type": "code",
        "colab": {
          "base_uri": "https://localhost:8080/",
          "height": 493
        },
        "outputId": "4854ca2b-8e8d-40c5-9e27-88647d220eea"
      },
      "source": [
        "#enc_model.load_weights(\"encoder_en.h5\")\n",
        "\n",
        "model_base_enc = build_model(module_path=\"bert_module\", tune_lr=4, loss=entropy_loss)\n",
        "base_enc_model = model_base_enc[\"enc_model\"]"
      ],
      "execution_count": 16,
      "outputs": [
        {
          "output_type": "stream",
          "text": [
            "Model: \"model_3\"\n",
            "__________________________________________________________________________________________________\n",
            "Layer (type)                    Output Shape         Param #     Connected to                     \n",
            "==================================================================================================\n",
            "input_anchor (InputLayer)       [(None, 1)]          0                                            \n",
            "__________________________________________________________________________________________________\n",
            "input_positive (InputLayer)     [(None, 1)]          0                                            \n",
            "__________________________________________________________________________________________________\n",
            "input_negative (InputLayer)     [(None, 1)]          0                                            \n",
            "__________________________________________________________________________________________________\n",
            "bert_layer_1 (BertLayer)        (None, 768)          109482240   input_anchor[0][0]               \n",
            "                                                                 input_positive[0][0]             \n",
            "                                                                 input_negative[0][0]             \n",
            "__________________________________________________________________________________________________\n",
            "tf_op_layer_mul_3 (TensorFlowOp [(None, 768)]        0           bert_layer_1[0][0]               \n",
            "__________________________________________________________________________________________________\n",
            "tf_op_layer_mul_4 (TensorFlowOp [(None, 768)]        0           bert_layer_1[1][0]               \n",
            "__________________________________________________________________________________________________\n",
            "tf_op_layer_mul_5 (TensorFlowOp [(None, 768)]        0           bert_layer_1[2][0]               \n",
            "__________________________________________________________________________________________________\n",
            "loss (Lambda)                   (None, 1)            0           tf_op_layer_mul_3[0][0]          \n",
            "                                                                 tf_op_layer_mul_4[0][0]          \n",
            "                                                                 tf_op_layer_mul_5[0][0]          \n",
            "==================================================================================================\n",
            "Total params: 109,482,240\n",
            "Trainable params: 28,351,488\n",
            "Non-trainable params: 81,130,752\n",
            "__________________________________________________________________________________________________\n"
          ],
          "name": "stdout"
        }
      ]
    },
    {
      "cell_type": "code",
      "metadata": {
        "id": "hFNIR_q8sNH7",
        "colab_type": "code",
        "colab": {}
      },
      "source": [
        ""
      ],
      "execution_count": 0,
      "outputs": []
    },
    {
      "cell_type": "code",
      "metadata": {
        "id": "IApG8jPdnoH7",
        "colab_type": "code",
        "colab": {}
      },
      "source": [
        ""
      ],
      "execution_count": 0,
      "outputs": []
    },
    {
      "cell_type": "code",
      "metadata": {
        "id": "xweIlOd2sNCb",
        "colab_type": "code",
        "outputId": "bd220c62-cc21-4ef0-b896-585e05668de2",
        "colab": {
          "base_uri": "https://localhost:8080/",
          "height": 775
        }
      },
      "source": [
        "sents = get_sents(dev_set)\n",
        "run_and_plot(sents, base_enc_model, enc_model)"
      ],
      "execution_count": 18,
      "outputs": [
        {
          "output_type": "display_data",
          "data": {
            "image/png": "[encoded data removed]",
            "text/plain": [
              "<Figure size 1152x576 with 4 Axes>"
            ]
          },
          "metadata": {
            "tags": []
          }
        }
      ]
    },
    {
      "cell_type": "code",
      "metadata": {
        "id": "jqsgRqrNnSHy",
        "colab_type": "code",
        "colab": {}
      },
      "source": [
        ""
      ],
      "execution_count": 0,
      "outputs": []
    }
  ]
}